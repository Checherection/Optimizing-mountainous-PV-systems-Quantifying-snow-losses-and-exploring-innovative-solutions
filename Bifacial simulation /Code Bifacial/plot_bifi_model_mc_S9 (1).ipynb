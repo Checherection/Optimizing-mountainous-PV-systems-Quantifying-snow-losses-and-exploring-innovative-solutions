{
  "cells": [
    {
      "cell_type": "markdown",
      "metadata": {
        "id": "knoHjPRxEabT"
      },
      "source": [
        "\n",
        "# Bifacial Modeling - modelchain\n",
        "\n",
        "Example of bifacial modeling using pvfactors and ModelChain\n"
      ]
    },
    {
      "cell_type": "markdown",
      "metadata": {
        "id": "MXMj05ZTEabU"
      },
      "source": [
        "This example shows how to complete a bifacial modeling example using the\n",
        ":py:class:`pvlib.modelchain.ModelChain` with the\n",
        ":py:func:`pvlib.bifacial.pvfactors.pvfactors_timeseries` function\n",
        "to transpose GHI data to both front and rear Plane of Array (POA) irradiance.\n",
        "\n",
        "Unfortunately ``ModelChain`` does not yet support bifacial simulation\n",
        "directly so we have to do the bifacial irradiance simulation ourselves.\n",
        "Once the combined front + rear irradiance is known, we can pass that\n",
        "to ``ModelChain`` and proceed as usual.\n",
        "\n",
        "Future versions of pvlib may make it easier to do bifacial modeling\n",
        "with ``ModelChain``.\n",
        "\n",
        ".. attention::\n",
        "   To run this example, the ``solarfactors`` package (an implementation\n",
        "   of the pvfactors model) must be installed.  It can be installed with\n",
        "   either ``pip install solarfactors`` or ``pip install pvlib[optional]``,\n",
        "   which installs all of pvlib's optional dependencies.\n",
        "\n"
      ]
    },
    {
      "cell_type": "code",
      "source": [
        "!pip install pvlib[optional]"
      ],
      "metadata": {
        "colab": {
          "base_uri": "https://localhost:8080/"
        },
        "id": "CugiDG4VEcSi",
        "outputId": "5f3bf803-af99-4a00-e191-ea05b96f7559",
        "collapsed": true
      },
      "execution_count": null,
      "outputs": [
        {
          "output_type": "stream",
          "name": "stdout",
          "text": [
            "Requirement already satisfied: pvlib[optional] in /usr/local/lib/python3.11/dist-packages (0.11.2)\n",
            "Requirement already satisfied: numpy>=1.19.3 in /usr/local/lib/python3.11/dist-packages (from pvlib[optional]) (1.26.4)\n",
            "Requirement already satisfied: pandas>=1.3.0 in /usr/local/lib/python3.11/dist-packages (from pvlib[optional]) (2.2.2)\n",
            "Requirement already satisfied: pytz in /usr/local/lib/python3.11/dist-packages (from pvlib[optional]) (2024.2)\n",
            "Requirement already satisfied: requests in /usr/local/lib/python3.11/dist-packages (from pvlib[optional]) (2.32.3)\n",
            "Requirement already satisfied: scipy>=1.6.0 in /usr/local/lib/python3.11/dist-packages (from pvlib[optional]) (1.13.1)\n",
            "Requirement already satisfied: h5py in /usr/local/lib/python3.11/dist-packages (from pvlib[optional]) (3.12.1)\n",
            "Requirement already satisfied: cython in /usr/local/lib/python3.11/dist-packages (from pvlib[optional]) (3.0.11)\n",
            "Requirement already satisfied: ephem in /usr/local/lib/python3.11/dist-packages (from pvlib[optional]) (4.1.6)\n",
            "Requirement already satisfied: nrel-pysam in /usr/local/lib/python3.11/dist-packages (from pvlib[optional]) (6.0.0)\n",
            "Requirement already satisfied: numba>=0.17.0 in /usr/local/lib/python3.11/dist-packages (from pvlib[optional]) (0.60.0)\n",
            "Requirement already satisfied: solarfactors in /usr/local/lib/python3.11/dist-packages (from pvlib[optional]) (1.5.3)\n",
            "Requirement already satisfied: statsmodels in /usr/local/lib/python3.11/dist-packages (from pvlib[optional]) (0.14.4)\n",
            "Requirement already satisfied: llvmlite<0.44,>=0.43.0dev0 in /usr/local/lib/python3.11/dist-packages (from numba>=0.17.0->pvlib[optional]) (0.43.0)\n",
            "Requirement already satisfied: python-dateutil>=2.8.2 in /usr/local/lib/python3.11/dist-packages (from pandas>=1.3.0->pvlib[optional]) (2.8.2)\n",
            "Requirement already satisfied: tzdata>=2022.7 in /usr/local/lib/python3.11/dist-packages (from pandas>=1.3.0->pvlib[optional]) (2024.2)\n",
            "Requirement already satisfied: charset-normalizer<4,>=2 in /usr/local/lib/python3.11/dist-packages (from requests->pvlib[optional]) (3.4.1)\n",
            "Requirement already satisfied: idna<4,>=2.5 in /usr/local/lib/python3.11/dist-packages (from requests->pvlib[optional]) (3.10)\n",
            "Requirement already satisfied: urllib3<3,>=1.21.1 in /usr/local/lib/python3.11/dist-packages (from requests->pvlib[optional]) (2.3.0)\n",
            "Requirement already satisfied: certifi>=2017.4.17 in /usr/local/lib/python3.11/dist-packages (from requests->pvlib[optional]) (2024.12.14)\n",
            "Requirement already satisfied: shapely<2,>=1.6.4.post2 in /usr/local/lib/python3.11/dist-packages (from solarfactors->pvlib[optional]) (1.8.5.post1)\n",
            "Requirement already satisfied: matplotlib in /usr/local/lib/python3.11/dist-packages (from solarfactors->pvlib[optional]) (3.10.0)\n",
            "Requirement already satisfied: future in /usr/local/lib/python3.11/dist-packages (from solarfactors->pvlib[optional]) (1.0.0)\n",
            "Requirement already satisfied: six in /usr/local/lib/python3.11/dist-packages (from solarfactors->pvlib[optional]) (1.17.0)\n",
            "Requirement already satisfied: patsy>=0.5.6 in /usr/local/lib/python3.11/dist-packages (from statsmodels->pvlib[optional]) (1.0.1)\n",
            "Requirement already satisfied: packaging>=21.3 in /usr/local/lib/python3.11/dist-packages (from statsmodels->pvlib[optional]) (24.2)\n",
            "Requirement already satisfied: contourpy>=1.0.1 in /usr/local/lib/python3.11/dist-packages (from matplotlib->solarfactors->pvlib[optional]) (1.3.1)\n",
            "Requirement already satisfied: cycler>=0.10 in /usr/local/lib/python3.11/dist-packages (from matplotlib->solarfactors->pvlib[optional]) (0.12.1)\n",
            "Requirement already satisfied: fonttools>=4.22.0 in /usr/local/lib/python3.11/dist-packages (from matplotlib->solarfactors->pvlib[optional]) (4.55.3)\n",
            "Requirement already satisfied: kiwisolver>=1.3.1 in /usr/local/lib/python3.11/dist-packages (from matplotlib->solarfactors->pvlib[optional]) (1.4.8)\n",
            "Requirement already satisfied: pillow>=8 in /usr/local/lib/python3.11/dist-packages (from matplotlib->solarfactors->pvlib[optional]) (11.1.0)\n",
            "Requirement already satisfied: pyparsing>=2.3.1 in /usr/local/lib/python3.11/dist-packages (from matplotlib->solarfactors->pvlib[optional]) (3.2.1)\n"
          ]
        }
      ]
    },
    {
      "cell_type": "code",
      "source": [
        "import pandas as pd\n",
        "import pvlib\n",
        "from pvlib import pvsystem\n",
        "from pvlib import location\n",
        "from pvlib import modelchain\n",
        "from pvlib.temperature import TEMPERATURE_MODEL_PARAMETERS as PARAMS\n",
        "from pvlib.bifacial.pvfactors import pvfactors_timeseries\n",
        "import warnings\n",
        "from pvlib.pvsystem import PVSystem, retrieve_sam\n",
        "from pvlib.iotools import get_pvgis_tmy\n",
        "import matplotlib.pyplot as plt\n",
        "\n",
        "# supressing shapely warnings that occur on import of pvfactors\n",
        "#warnings.filterwarnings(action='ignore', module='pvfactors')\n",
        "\n",
        "#url=\"https://raw.githubusercontent.com/Checherection/research-project/refs/heads/main/Flaine_(1600m).csv \"\n",
        "#url=\"https://raw.githubusercontent.com/Checherection/research-project/refs/heads/main/Couvercle_Nivose_(2758m).csv\"\n",
        "#url=\"https://raw.githubusercontent.com/Checherection/research-project/refs/heads/main/Chambery_Aix_(235m).csv\"\n",
        "#url=\"https://raw.githubusercontent.com/Checherection/research-project/refs/heads/main/Bourg_Saint_Maurice_(865m).csv\"\n",
        "url=\"https://raw.githubusercontent.com/Checherection/research-project/refs/heads/main/Aiguilles_Rouge_Nivose_(2400m).csv\"\n",
        "snow_data = pd.read_csv(url, index_col=0,  header=0,sep=';')\n"
      ],
      "metadata": {
        "id": "v5PrOU2IW-1v"
      },
      "execution_count": null,
      "outputs": []
    },
    {
      "cell_type": "code",
      "source": [
        "print(snow_data)"
      ],
      "metadata": {
        "colab": {
          "base_uri": "https://localhost:8080/"
        },
        "id": "ziJQiQdkXAPf",
        "outputId": "0bd16d2b-20a1-4cca-f445-f43a142025e1",
        "collapsed": true
      },
      "execution_count": null,
      "outputs": [
        {
          "output_type": "stream",
          "name": "stdout",
          "text": [
            "           neige_au_sol  snow_total  snow_event  Unnamed: 4 Unnamed: 5  \\\n",
            "january            7509         146           8         NaN   latitude   \n",
            "february           7032          33           3         NaN  longitude   \n",
            "march              4705         323          11         NaN   timezone   \n",
            "april              7804         101           7         NaN  elevation   \n",
            "may                5648          15           1         NaN       name   \n",
            "june               1048           0           0         NaN        NaN   \n",
            "july                  0           0           0         NaN        NaN   \n",
            "august                3           3           1         NaN        NaN   \n",
            "september             6           3           0         NaN        NaN   \n",
            "october              59          18           3         NaN        NaN   \n",
            "november            547         139          10         NaN        NaN   \n",
            "december           4781         236          11         NaN        NaN   \n",
            "\n",
            "           site_parameter  \n",
            "january         45.986333  \n",
            "february         6.896833  \n",
            "march        Europe/Paris  \n",
            "april                2365  \n",
            "may        aiguille_rouge  \n",
            "june                  NaN  \n",
            "july                  NaN  \n",
            "august                NaN  \n",
            "september             NaN  \n",
            "october               NaN  \n",
            "november              NaN  \n",
            "december              NaN  \n"
          ]
        }
      ]
    },
    {
      "cell_type": "code",
      "source": [
        "tmys = []\n",
        "# create site location and times characteristics\n",
        "#lat, lon = 36.084, -79.817\n",
        "lat = snow_data['site_parameter'][0]\n",
        "lon = snow_data['site_parameter'][1]\n",
        "tz = snow_data['site_parameter'][2] #'ETC/GMT+1'\n",
        "altitude = snow_data['site_parameter'][3]\n",
        "name = snow_data['site_parameter'][4]\n",
        "\n",
        "times = pd.date_range('2021-06-21', '2021-6-22', freq='1T', tz=tz)\n",
        "\n",
        "# create site system characteristics\n",
        "\n",
        "\n",
        "surface_azimuth = 270  #main side facing east = 90\n",
        "axis_azimuth = surface_azimuth+90\n",
        "\n",
        "axis_tilt = 90 #single axis vertical\n",
        "surface_tilt = axis_tilt\n",
        "\n",
        "gcr = 0.01\n",
        "max_angle = 90\n",
        "\n",
        "#Module Dimensions: 2382×1134×30 mm\n",
        "m_width = 1.134\n",
        "m_height = 2.382\n",
        "number_in_string = 6\n",
        "number_of_strings = 2\n",
        "\n",
        "pvrow_height = m_height/2\n",
        "pvrow_width = m_width*number_in_string*number_of_strings\n",
        "\n",
        "albedo = 0.8\n",
        "bifaciality = 0.8# from datasheet https://cdn.enfsolar.com/z/pp/2024/8/em534vircq2j33i39/dt-m-0045-f-datasheet-vertex-neg19rc-20-en-2024-b-web-0.pdf\n",
        "\n",
        "# load temperature parameters and module/inverter specifications\n",
        "temp_model_parameters = PARAMS['sapm']['open_rack_glass_glass']\n",
        "\n",
        "cec_modules = retrieve_sam(path='https://raw.githubusercontent.com/NREL/SAM/refs/heads/develop/deploy/libraries/CEC%20Modules.csv')  # Use 'CECMod' for modules\n",
        "cec_inverters = retrieve_sam(path='https://raw.githubusercontent.com/NREL/SAM/refs/heads/develop/deploy/libraries/CEC%20Inverters.csv')  # Use 'cecinverter' for inverters\n",
        "#https://github.com/NREL/SAM/tree/develop/deploy/libraries\n",
        "\n",
        "#cec_modules = pvsystem.retrieve_sam('CECMod')\n",
        "#cec_module = cec_modules['Trina_Solar_TSM_300DEG5C_07_II_']\n",
        "cec_module = cec_modules['Trina_Solar_TSM_620NEG19RC_20']\n",
        "#cec_inverters = pvsystem.retrieve_sam('cecinverter')\n",
        "cec_inverter = cec_inverters['Huawei_Technologies_Co___Ltd___SUN2000_7_6KTL_USL0__240V_']\n",
        "#print(cec_modules.iloc[:,17270])\n",
        "\n",
        "# create a location for site, and get solar position and clearsky data\n",
        "site_location = location.Location(float(lat), float(lon), tz,altitude=float(altitude) , name=name)\n",
        "\n",
        "weather = pvlib.iotools.get_pvgis_tmy(site_location.latitude, site_location.longitude)[0]\n",
        "weather.index.name = \"utc_time\"\n",
        "tmys.append(weather)\n",
        "print(weather)\n"
      ],
      "metadata": {
        "colab": {
          "base_uri": "https://localhost:8080/"
        },
        "id": "8xQWPqQhXWMX",
        "outputId": "31556989-caba-455d-b922-512b1b5b1f99",
        "collapsed": true
      },
      "execution_count": null,
      "outputs": [
        {
          "output_type": "stream",
          "name": "stderr",
          "text": [
            "<ipython-input-13-9fc5d0a2ecdc>:4: FutureWarning: Series.__getitem__ treating keys as positions is deprecated. In a future version, integer keys will always be treated as labels (consistent with DataFrame behavior). To access a value by position, use `ser.iloc[pos]`\n",
            "  lat = snow_data['site_parameter'][0]\n",
            "<ipython-input-13-9fc5d0a2ecdc>:5: FutureWarning: Series.__getitem__ treating keys as positions is deprecated. In a future version, integer keys will always be treated as labels (consistent with DataFrame behavior). To access a value by position, use `ser.iloc[pos]`\n",
            "  lon = snow_data['site_parameter'][1]\n",
            "<ipython-input-13-9fc5d0a2ecdc>:6: FutureWarning: Series.__getitem__ treating keys as positions is deprecated. In a future version, integer keys will always be treated as labels (consistent with DataFrame behavior). To access a value by position, use `ser.iloc[pos]`\n",
            "  tz = snow_data['site_parameter'][2] #'ETC/GMT+1'\n",
            "<ipython-input-13-9fc5d0a2ecdc>:7: FutureWarning: Series.__getitem__ treating keys as positions is deprecated. In a future version, integer keys will always be treated as labels (consistent with DataFrame behavior). To access a value by position, use `ser.iloc[pos]`\n",
            "  altitude = snow_data['site_parameter'][3]\n",
            "<ipython-input-13-9fc5d0a2ecdc>:8: FutureWarning: Series.__getitem__ treating keys as positions is deprecated. In a future version, integer keys will always be treated as labels (consistent with DataFrame behavior). To access a value by position, use `ser.iloc[pos]`\n",
            "  name = snow_data['site_parameter'][4]\n",
            "<ipython-input-13-9fc5d0a2ecdc>:10: FutureWarning: 'T' is deprecated and will be removed in a future version, please use 'min' instead.\n",
            "  times = pd.date_range('2021-06-21', '2021-6-22', freq='1T', tz=tz)\n",
            "/usr/local/lib/python3.11/dist-packages/pvlib/pvsystem.py:2132: UserWarning: Original names contain 505 duplicate(s).\n",
            "  warnings.warn('Original names contain %d duplicate(s).' % n_duplicates)\n",
            "/usr/local/lib/python3.11/dist-packages/pvlib/pvsystem.py:2136: UserWarning: Normalized names contain 505 duplicate(s).\n",
            "  warnings.warn(\n"
          ]
        },
        {
          "output_type": "stream",
          "name": "stdout",
          "text": [
            "                           temp_air  relative_humidity  ghi  dni  dhi   IR(h)  \\\n",
            "utc_time                                                                        \n",
            "2011-01-01 00:00:00+00:00    -10.26              84.87  0.0  0.0  0.0  221.17   \n",
            "2011-01-01 01:00:00+00:00    -10.97              83.68  0.0  0.0  0.0  211.36   \n",
            "2011-01-01 02:00:00+00:00    -11.67              82.49  0.0  0.0  0.0  201.55   \n",
            "2011-01-01 03:00:00+00:00    -12.38              81.29  0.0  0.0  0.0  191.74   \n",
            "2011-01-01 04:00:00+00:00    -13.09              80.10  0.0  0.0  0.0  181.93   \n",
            "...                             ...                ...  ...  ...  ...     ...   \n",
            "2005-12-31 19:00:00+00:00     -6.73              90.85  0.0  0.0  0.0  270.22   \n",
            "2005-12-31 20:00:00+00:00     -7.43              89.65  0.0  0.0  0.0  260.41   \n",
            "2005-12-31 21:00:00+00:00     -8.14              88.46  0.0  0.0  0.0  250.60   \n",
            "2005-12-31 22:00:00+00:00     -8.85              87.26  0.0  0.0  0.0  240.79   \n",
            "2005-12-31 23:00:00+00:00     -9.55              86.07  0.0  0.0  0.0  230.98   \n",
            "\n",
            "                           wind_speed  wind_direction  pressure  \n",
            "utc_time                                                         \n",
            "2011-01-01 00:00:00+00:00        0.92           119.0   57612.0  \n",
            "2011-01-01 01:00:00+00:00        0.94           121.0   57597.0  \n",
            "2011-01-01 02:00:00+00:00        0.96           121.0   57597.0  \n",
            "2011-01-01 03:00:00+00:00        0.97           119.0   57597.0  \n",
            "2011-01-01 04:00:00+00:00        0.99           118.0   57582.0  \n",
            "...                               ...             ...       ...  \n",
            "2005-12-31 19:00:00+00:00        0.84           209.0   56989.0  \n",
            "2005-12-31 20:00:00+00:00        0.85           200.0   56959.0  \n",
            "2005-12-31 21:00:00+00:00        0.87           188.0   56929.0  \n",
            "2005-12-31 22:00:00+00:00        0.89           177.0   56899.0  \n",
            "2005-12-31 23:00:00+00:00        0.91           176.0   56846.0  \n",
            "\n",
            "[8760 rows x 9 columns]\n"
          ]
        }
      ]
    },
    {
      "cell_type": "code",
      "source": [
        "#print(weather.head(20))\n",
        "solar_position = site_location.get_solarposition(weather.index)\n",
        "#print(solar_position.head(20))\n",
        "#cs = site_location.get_clearsky(weather.index)\n",
        "#print(cs.head(20))"
      ],
      "metadata": {
        "id": "92nNLqKzUkUM"
      },
      "execution_count": null,
      "outputs": []
    },
    {
      "cell_type": "markdown",
      "source": [
        "**1 ) fisrt step**"
      ],
      "metadata": {
        "id": "vjCUfsDp21Q5"
      }
    },
    {
      "cell_type": "code",
      "execution_count": null,
      "metadata": {
        "colab": {
          "base_uri": "https://localhost:8080/"
        },
        "id": "EQIm2jAvEabV",
        "outputId": "b1251e78-7f0a-4896-f8bb-ee257c4515b6"
      },
      "outputs": [
        {
          "output_type": "stream",
          "name": "stderr",
          "text": [
            "/usr/local/lib/python3.11/dist-packages/pvfactors/viewfactors/vfmethods.py:181: RuntimeWarning: invalid value encountered in divide\n",
            "  vf_pvrow_to_gnd_surf * pvrow_surf_length / gnd_surf_length, 0.)\n"
          ]
        }
      ],
      "source": [
        "# load solar position and tracker orientation for use in pvsystem object\n",
        "sat_mount = pvsystem.SingleAxisTrackerMount(axis_tilt=axis_tilt,\n",
        "                                            axis_azimuth=axis_azimuth,\n",
        "                                            max_angle=max_angle,\n",
        "                                            backtrack=False,\n",
        "                                            gcr=gcr)\n",
        "\n",
        "# created for use in pvfactors timeseries\n",
        "#orientation = sat_mount.get_orientation(solar_position['apparent_zenith'],\n",
        "                                        #solar_position['azimuth'])\n",
        "\n",
        "# get rear and front side irradiance from pvfactors transposition engine\n",
        "# explicity simulate on pvarray with 3 rows, with sensor placed in middle row\n",
        "# users may select different values depending on needs\n",
        "irrad = pvfactors_timeseries(solar_position['azimuth'], # 2ème step IMPORTANT !!!!!!\n",
        "                             solar_position['apparent_zenith'],\n",
        "                             surface_azimuth,\n",
        "                             surface_tilt,\n",
        "                             axis_azimuth,\n",
        "                             weather.index,\n",
        "                             weather['dni'],\n",
        "                             weather['dhi'],\n",
        "                             gcr,\n",
        "                             pvrow_height,\n",
        "                             pvrow_width,\n",
        "                             albedo,\n",
        "                             n_pvrows=1,\n",
        "                             index_observed_pvrow=0 #first row obervation\n",
        "                             )\n",
        "\n",
        "# Step 3 !!!!!!!!!!!!\n",
        "\n",
        "# turn into pandas DataFrame\n",
        "irrad = pd.concat(irrad, axis=1)\n",
        "\n",
        "# create bifacial effective irradiance using aoi-corrected timeseries values\n",
        "irrad['effective_irradiance'] = (\n",
        "    irrad['total_abs_front'] + (irrad['total_abs_back'] * bifaciality)\n",
        ")\n",
        "\n",
        "#version pour hugo en try hard, production seulement de la façce arrire\n",
        "# create bifacial effective irradiance using aoi-corrected timeseries values\n",
        "#irrad['effective_irradiance'] = ((irrad['total_abs_back'] * bifaciality)\n",
        "#)"
      ]
    },
    {
      "cell_type": "code",
      "source": [],
      "metadata": {
        "id": "euGtCXLZ_VBb"
      },
      "execution_count": null,
      "outputs": []
    },
    {
      "cell_type": "code",
      "source": [
        "BG= (bifaciality * irrad['total_abs_back'])/ irrad['effective_irradiance']\n",
        "\n",
        "print(BG.head(20))\n",
        "BG.plot()\n",
        "average_value_bg = BG.mean(skipna=True)\n",
        "print(\"\\n Bifacial gain yearly\",average_value_bg)"
      ],
      "metadata": {
        "colab": {
          "base_uri": "https://localhost:8080/",
          "height": 860
        },
        "id": "JK4LAsJQ_kPF",
        "outputId": "2bdb1971-50a5-48ad-8665-0e8316a014d2"
      },
      "execution_count": null,
      "outputs": [
        {
          "output_type": "stream",
          "name": "stdout",
          "text": [
            "utc_time\n",
            "2011-01-01 00:00:00+00:00         NaN\n",
            "2011-01-01 01:00:00+00:00         NaN\n",
            "2011-01-01 02:00:00+00:00         NaN\n",
            "2011-01-01 03:00:00+00:00         NaN\n",
            "2011-01-01 04:00:00+00:00         NaN\n",
            "2011-01-01 05:00:00+00:00         NaN\n",
            "2011-01-01 06:00:00+00:00         NaN\n",
            "2011-01-01 07:00:00+00:00         NaN\n",
            "2011-01-01 08:00:00+00:00    0.439244\n",
            "2011-01-01 09:00:00+00:00    0.875251\n",
            "2011-01-01 10:00:00+00:00    0.748870\n",
            "2011-01-01 11:00:00+00:00    0.526030\n",
            "2011-01-01 12:00:00+00:00    0.401405\n",
            "2011-01-01 13:00:00+00:00    0.213723\n",
            "2011-01-01 14:00:00+00:00    0.057441\n",
            "2011-01-01 15:00:00+00:00    0.439385\n",
            "2011-01-01 16:00:00+00:00         NaN\n",
            "2011-01-01 17:00:00+00:00         NaN\n",
            "2011-01-01 18:00:00+00:00         NaN\n",
            "2011-01-01 19:00:00+00:00         NaN\n",
            "dtype: float64\n",
            "\n",
            " Bifacial gain yearly 0.4926957947791977\n"
          ]
        },
        {
          "output_type": "display_data",
          "data": {
            "text/plain": [
              "<Figure size 640x480 with 1 Axes>"
            ],
            "image/png": "[encoded data removed]"
          },
          "metadata": {}
        }
      ]
    },
    {
      "cell_type": "markdown",
      "metadata": {
        "id": "sSyCbOL5EabX"
      },
      "source": [
        "With effective irradiance, we can pass data to ModelChain for\n",
        "bifacial simulation.\n",
        "\n"
      ]
    },
    {
      "cell_type": "code",
      "execution_count": null,
      "metadata": {
        "id": "ZdBu2aVGEabX",
        "colab": {
          "base_uri": "https://localhost:8080/",
          "height": 663
        },
        "outputId": "1ba0816a-a25d-4f40-c232-7bca1cc3bfcd"
      },
      "outputs": [
        {
          "output_type": "stream",
          "name": "stdout",
          "text": [
            "ModelChain: \n",
            "  name: None\n",
            "  clearsky_model: ineichen\n",
            "  transposition_model: haydavies\n",
            "  solar_position_method: nrel_numpy\n",
            "  airmass_model: kastenyoung1989\n",
            "  dc_model: cec\n",
            "  ac_model: sandia_inverter\n",
            "  aoi_model: no_aoi_loss\n",
            "  spectral_model: first_solar_spectral_loss\n",
            "  temperature_model: sapm_temp\n",
            "  losses_model: no_extra_losses\n"
          ]
        },
        {
          "output_type": "display_data",
          "data": {
            "text/plain": [
              "<Figure size 640x480 with 1 Axes>"
            ],
            "image/png": "[encoded data removed]"
          },
          "metadata": {}
        }
      ],
      "source": [
        "array = pvsystem.Array(mount=sat_mount,\n",
        "                       module_parameters=cec_module,\n",
        "                       temperature_model_parameters=temp_model_parameters, modules_per_string=number_in_string, strings=number_of_strings)\n",
        "\n",
        "# create system object\n",
        "system = pvsystem.PVSystem(arrays=[array],\n",
        "                           inverter_parameters=cec_inverter)\n",
        "\n",
        "# ModelChain requires the parameter aoi_loss to have a value. pvfactors\n",
        "# applies surface reflection models in the calculation of front and back\n",
        "# irradiance, so assign aoi_model='no_loss' to avoid double counting\n",
        "# reflections.\n",
        "mc_bifi = modelchain.ModelChain(system, site_location, aoi_model='no_loss')\n",
        "mc_bifi.run_model_from_effective_irradiance(irrad)\n",
        "\n",
        "# plot results\n",
        "mc_bifi.results.ac.plot(title='Bifacial Simulation on June Solstice',\n",
        "                        ylabel='AC Power')\n",
        "print(mc_bifi)"
      ]
    },
    {
      "cell_type": "code",
      "source": [
        "# prompt: ploter la puissance dc avec les heures du fichier de 0à 8760 en bascisse\n",
        "\n",
        "dc_power = mc_bifi.results.dc['p_mp']\n",
        "print(dc_power)\n",
        "# Create the plot\n",
        "plt.figure(figsize=(10, 6))  # Adjust figure size as needed\n",
        "plt.plot(range(len(dc_power)), dc_power)\n",
        "plt.xlabel('Hour (0-8760)')\n",
        "plt.ylabel('DC Power')\n",
        "plt.title('DC Power over Time')\n",
        "plt.grid(True)  # Add grid for better readability\n",
        "plt.xlim(1990,2040) # Set x-axis limits\n",
        "\n",
        "#plt.show()"
      ],
      "metadata": {
        "colab": {
          "base_uri": "https://localhost:8080/",
          "height": 819
        },
        "id": "9eAZGNTfXguw",
        "outputId": "4a1ec41f-dadb-44d8-a50c-dca2b6275a4f"
      },
      "execution_count": null,
      "outputs": [
        {
          "output_type": "stream",
          "name": "stdout",
          "text": [
            "utc_time\n",
            "2011-01-01 00:00:00+00:00    0.0\n",
            "2011-01-01 01:00:00+00:00    0.0\n",
            "2011-01-01 02:00:00+00:00    0.0\n",
            "2011-01-01 03:00:00+00:00    0.0\n",
            "2011-01-01 04:00:00+00:00    0.0\n",
            "                            ... \n",
            "2005-12-31 19:00:00+00:00    0.0\n",
            "2005-12-31 20:00:00+00:00    0.0\n",
            "2005-12-31 21:00:00+00:00    0.0\n",
            "2005-12-31 22:00:00+00:00    0.0\n",
            "2005-12-31 23:00:00+00:00    0.0\n",
            "Name: p_mp, Length: 8760, dtype: float64\n"
          ]
        },
        {
          "output_type": "execute_result",
          "data": {
            "text/plain": [
              "(1990.0, 2040.0)"
            ]
          },
          "metadata": {},
          "execution_count": 18
        },
        {
          "output_type": "display_data",
          "data": {
            "text/plain": [
              "<Figure size 1000x600 with 1 Axes>"
            ],
            "image/png": "[encoded data removed]"
          },
          "metadata": {}
        }
      ]
    },
    {
      "cell_type": "code",
      "source": [
        "dc_power_total=mc_bifi.results.dc['p_mp'].sum()\n",
        "print(dc_power_total)"
      ],
      "metadata": {
        "id": "EuReBOrqz5WI",
        "colab": {
          "base_uri": "https://localhost:8080/"
        },
        "outputId": "79bf8e1f-42f6-4b76-eadf-e3ff54e14200"
      },
      "execution_count": null,
      "outputs": [
        {
          "output_type": "stream",
          "name": "stdout",
          "text": [
            "12332023.412126673\n"
          ]
        }
      ]
    },
    {
      "cell_type": "markdown",
      "source": [
        "HIVER"
      ],
      "metadata": {
        "id": "GFxwd9PYHV-5"
      }
    },
    {
      "cell_type": "code",
      "source": [
        "# Select data for the desired hours\n",
        "selected_hours_hiver = mc_bifi.results.ac.iloc[8472:8496] # changer heures\n",
        "\n",
        "# Create the curve graph\n",
        "plt.figure(figsize=(10, 6))  # Adjust figure size as needed\n",
        "plt.plot(selected_hours_hiver.index, selected_hours_hiver.values, color='b', label='AC Production')\n",
        "\n",
        "# Customize the plot\n",
        "plt.xlabel('Date')\n",
        "plt.ylabel('AC Production (W)')\n",
        "plt.title('AC Production')\n",
        "plt.grid(True)\n",
        "plt.legend()\n",
        "\n",
        "# Rotate x-axis labels for better readability (optional)\n",
        "plt.xticks(rotation=45, ha='right')\n",
        "\n",
        "plt.tight_layout()\n",
        "plt.show()"
      ],
      "metadata": {
        "colab": {
          "base_uri": "https://localhost:8080/",
          "height": 607
        },
        "id": "IXJW5wxXYdlg",
        "outputId": "7fdfadee-4a90-4626-c730-fff17d647685"
      },
      "execution_count": null,
      "outputs": [
        {
          "output_type": "display_data",
          "data": {
            "text/plain": [
              "<Figure size 1000x600 with 1 Axes>"
            ],
            "image/png": "[encoded data removed]"
          },
          "metadata": {}
        }
      ]
    },
    {
      "cell_type": "code",
      "source": [
        "#selected_hours_hiver.to_csv('selected_hours_hiver.csv')"
      ],
      "metadata": {
        "id": "6HdAEIFUBZ-Y"
      },
      "execution_count": null,
      "outputs": []
    },
    {
      "cell_type": "code",
      "source": [
        "df1 = pd.read_csv('selected_hours_e_20 dec_EST.csv') #hiver\n",
        "df2 = pd.read_csv('selected_hours_20_dec_WEST.csv')\n"
      ],
      "metadata": {
        "id": "YqZ8oN7_Cx-1",
        "colab": {
          "base_uri": "https://localhost:8080/",
          "height": 316
        },
        "outputId": "e2e78878-b6d1-4825-ec93-848baac8fb49"
      },
      "execution_count": null,
      "outputs": [
        {
          "output_type": "error",
          "ename": "FileNotFoundError",
          "evalue": "[Errno 2] No such file or directory: 'selected_hours_e_20 dec_EST.csv'",
          "traceback": [
            "\u001b[0;31m---------------------------------------------------------------------------\u001b[0m",
            "\u001b[0;31mFileNotFoundError\u001b[0m                         Traceback (most recent call last)",
            "\u001b[0;32m<ipython-input-22-3b052ac45acb>\u001b[0m in \u001b[0;36m<cell line: 0>\u001b[0;34m()\u001b[0m\n\u001b[0;32m----> 1\u001b[0;31m \u001b[0mdf1\u001b[0m \u001b[0;34m=\u001b[0m \u001b[0mpd\u001b[0m\u001b[0;34m.\u001b[0m\u001b[0mread_csv\u001b[0m\u001b[0;34m(\u001b[0m\u001b[0;34m'selected_hours_e_20 dec_EST.csv'\u001b[0m\u001b[0;34m)\u001b[0m \u001b[0;31m#hiver\u001b[0m\u001b[0;34m\u001b[0m\u001b[0;34m\u001b[0m\u001b[0m\n\u001b[0m\u001b[1;32m      2\u001b[0m \u001b[0mdf2\u001b[0m \u001b[0;34m=\u001b[0m \u001b[0mpd\u001b[0m\u001b[0;34m.\u001b[0m\u001b[0mread_csv\u001b[0m\u001b[0;34m(\u001b[0m\u001b[0;34m'selected_hours_20_dec_WEST.csv'\u001b[0m\u001b[0;34m)\u001b[0m\u001b[0;34m\u001b[0m\u001b[0;34m\u001b[0m\u001b[0m\n",
            "\u001b[0;32m/usr/local/lib/python3.11/dist-packages/pandas/io/parsers/readers.py\u001b[0m in \u001b[0;36mread_csv\u001b[0;34m(filepath_or_buffer, sep, delimiter, header, names, index_col, usecols, dtype, engine, converters, true_values, false_values, skipinitialspace, skiprows, skipfooter, nrows, na_values, keep_default_na, na_filter, verbose, skip_blank_lines, parse_dates, infer_datetime_format, keep_date_col, date_parser, date_format, dayfirst, cache_dates, iterator, chunksize, compression, thousands, decimal, lineterminator, quotechar, quoting, doublequote, escapechar, comment, encoding, encoding_errors, dialect, on_bad_lines, delim_whitespace, low_memory, memory_map, float_precision, storage_options, dtype_backend)\u001b[0m\n\u001b[1;32m   1024\u001b[0m     \u001b[0mkwds\u001b[0m\u001b[0;34m.\u001b[0m\u001b[0mupdate\u001b[0m\u001b[0;34m(\u001b[0m\u001b[0mkwds_defaults\u001b[0m\u001b[0;34m)\u001b[0m\u001b[0;34m\u001b[0m\u001b[0;34m\u001b[0m\u001b[0m\n\u001b[1;32m   1025\u001b[0m \u001b[0;34m\u001b[0m\u001b[0m\n\u001b[0;32m-> 1026\u001b[0;31m     \u001b[0;32mreturn\u001b[0m \u001b[0m_read\u001b[0m\u001b[0;34m(\u001b[0m\u001b[0mfilepath_or_buffer\u001b[0m\u001b[0;34m,\u001b[0m \u001b[0mkwds\u001b[0m\u001b[0;34m)\u001b[0m\u001b[0;34m\u001b[0m\u001b[0;34m\u001b[0m\u001b[0m\n\u001b[0m\u001b[1;32m   1027\u001b[0m \u001b[0;34m\u001b[0m\u001b[0m\n\u001b[1;32m   1028\u001b[0m \u001b[0;34m\u001b[0m\u001b[0m\n",
            "\u001b[0;32m/usr/local/lib/python3.11/dist-packages/pandas/io/parsers/readers.py\u001b[0m in \u001b[0;36m_read\u001b[0;34m(filepath_or_buffer, kwds)\u001b[0m\n\u001b[1;32m    618\u001b[0m \u001b[0;34m\u001b[0m\u001b[0m\n\u001b[1;32m    619\u001b[0m     \u001b[0;31m# Create the parser.\u001b[0m\u001b[0;34m\u001b[0m\u001b[0;34m\u001b[0m\u001b[0m\n\u001b[0;32m--> 620\u001b[0;31m     \u001b[0mparser\u001b[0m \u001b[0;34m=\u001b[0m \u001b[0mTextFileReader\u001b[0m\u001b[0;34m(\u001b[0m\u001b[0mfilepath_or_buffer\u001b[0m\u001b[0;34m,\u001b[0m \u001b[0;34m**\u001b[0m\u001b[0mkwds\u001b[0m\u001b[0;34m)\u001b[0m\u001b[0;34m\u001b[0m\u001b[0;34m\u001b[0m\u001b[0m\n\u001b[0m\u001b[1;32m    621\u001b[0m \u001b[0;34m\u001b[0m\u001b[0m\n\u001b[1;32m    622\u001b[0m     \u001b[0;32mif\u001b[0m \u001b[0mchunksize\u001b[0m \u001b[0;32mor\u001b[0m \u001b[0miterator\u001b[0m\u001b[0;34m:\u001b[0m\u001b[0;34m\u001b[0m\u001b[0;34m\u001b[0m\u001b[0m\n",
            "\u001b[0;32m/usr/local/lib/python3.11/dist-packages/pandas/io/parsers/readers.py\u001b[0m in \u001b[0;36m__init__\u001b[0;34m(self, f, engine, **kwds)\u001b[0m\n\u001b[1;32m   1618\u001b[0m \u001b[0;34m\u001b[0m\u001b[0m\n\u001b[1;32m   1619\u001b[0m         \u001b[0mself\u001b[0m\u001b[0;34m.\u001b[0m\u001b[0mhandles\u001b[0m\u001b[0;34m:\u001b[0m \u001b[0mIOHandles\u001b[0m \u001b[0;34m|\u001b[0m \u001b[0;32mNone\u001b[0m \u001b[0;34m=\u001b[0m \u001b[0;32mNone\u001b[0m\u001b[0;34m\u001b[0m\u001b[0;34m\u001b[0m\u001b[0m\n\u001b[0;32m-> 1620\u001b[0;31m         \u001b[0mself\u001b[0m\u001b[0;34m.\u001b[0m\u001b[0m_engine\u001b[0m \u001b[0;34m=\u001b[0m \u001b[0mself\u001b[0m\u001b[0;34m.\u001b[0m\u001b[0m_make_engine\u001b[0m\u001b[0;34m(\u001b[0m\u001b[0mf\u001b[0m\u001b[0;34m,\u001b[0m \u001b[0mself\u001b[0m\u001b[0;34m.\u001b[0m\u001b[0mengine\u001b[0m\u001b[0;34m)\u001b[0m\u001b[0;34m\u001b[0m\u001b[0;34m\u001b[0m\u001b[0m\n\u001b[0m\u001b[1;32m   1621\u001b[0m \u001b[0;34m\u001b[0m\u001b[0m\n\u001b[1;32m   1622\u001b[0m     \u001b[0;32mdef\u001b[0m \u001b[0mclose\u001b[0m\u001b[0;34m(\u001b[0m\u001b[0mself\u001b[0m\u001b[0;34m)\u001b[0m \u001b[0;34m->\u001b[0m \u001b[0;32mNone\u001b[0m\u001b[0;34m:\u001b[0m\u001b[0;34m\u001b[0m\u001b[0;34m\u001b[0m\u001b[0m\n",
            "\u001b[0;32m/usr/local/lib/python3.11/dist-packages/pandas/io/parsers/readers.py\u001b[0m in \u001b[0;36m_make_engine\u001b[0;34m(self, f, engine)\u001b[0m\n\u001b[1;32m   1878\u001b[0m                 \u001b[0;32mif\u001b[0m \u001b[0;34m\"b\"\u001b[0m \u001b[0;32mnot\u001b[0m \u001b[0;32min\u001b[0m \u001b[0mmode\u001b[0m\u001b[0;34m:\u001b[0m\u001b[0;34m\u001b[0m\u001b[0;34m\u001b[0m\u001b[0m\n\u001b[1;32m   1879\u001b[0m                     \u001b[0mmode\u001b[0m \u001b[0;34m+=\u001b[0m \u001b[0;34m\"b\"\u001b[0m\u001b[0;34m\u001b[0m\u001b[0;34m\u001b[0m\u001b[0m\n\u001b[0;32m-> 1880\u001b[0;31m             self.handles = get_handle(\n\u001b[0m\u001b[1;32m   1881\u001b[0m                 \u001b[0mf\u001b[0m\u001b[0;34m,\u001b[0m\u001b[0;34m\u001b[0m\u001b[0;34m\u001b[0m\u001b[0m\n\u001b[1;32m   1882\u001b[0m                 \u001b[0mmode\u001b[0m\u001b[0;34m,\u001b[0m\u001b[0;34m\u001b[0m\u001b[0;34m\u001b[0m\u001b[0m\n",
            "\u001b[0;32m/usr/local/lib/python3.11/dist-packages/pandas/io/common.py\u001b[0m in \u001b[0;36mget_handle\u001b[0;34m(path_or_buf, mode, encoding, compression, memory_map, is_text, errors, storage_options)\u001b[0m\n\u001b[1;32m    871\u001b[0m         \u001b[0;32mif\u001b[0m \u001b[0mioargs\u001b[0m\u001b[0;34m.\u001b[0m\u001b[0mencoding\u001b[0m \u001b[0;32mand\u001b[0m \u001b[0;34m\"b\"\u001b[0m \u001b[0;32mnot\u001b[0m \u001b[0;32min\u001b[0m \u001b[0mioargs\u001b[0m\u001b[0;34m.\u001b[0m\u001b[0mmode\u001b[0m\u001b[0;34m:\u001b[0m\u001b[0;34m\u001b[0m\u001b[0;34m\u001b[0m\u001b[0m\n\u001b[1;32m    872\u001b[0m             \u001b[0;31m# Encoding\u001b[0m\u001b[0;34m\u001b[0m\u001b[0;34m\u001b[0m\u001b[0m\n\u001b[0;32m--> 873\u001b[0;31m             handle = open(\n\u001b[0m\u001b[1;32m    874\u001b[0m                 \u001b[0mhandle\u001b[0m\u001b[0;34m,\u001b[0m\u001b[0;34m\u001b[0m\u001b[0;34m\u001b[0m\u001b[0m\n\u001b[1;32m    875\u001b[0m                 \u001b[0mioargs\u001b[0m\u001b[0;34m.\u001b[0m\u001b[0mmode\u001b[0m\u001b[0;34m,\u001b[0m\u001b[0;34m\u001b[0m\u001b[0;34m\u001b[0m\u001b[0m\n",
            "\u001b[0;31mFileNotFoundError\u001b[0m: [Errno 2] No such file or directory: 'selected_hours_e_20 dec_EST.csv'"
          ]
        }
      ]
    },
    {
      "cell_type": "code",
      "source": [
        "import matplotlib.dates as mdates\n",
        "# Concatenate the DataFrames\n",
        "combined_df = pd.concat([\n",
        "    df1.rename(columns={'0': 'EST 90'})[['EST 90']],\n",
        "    df2.rename(columns={'0': 'WEST 90'})[['WEST 90']],\n",
        "], axis=1)\n",
        "\n",
        "# Set 'Hour' as index if not already\n",
        "combined_df['Hour'] = pd.to_datetime(df1['utc_time'], format='%H:%M', errors='coerce').fillna(pd.to_datetime('2023-01-01')) + pd.to_timedelta(df1.index, unit='h')\n",
        "combined_df.set_index('Hour', inplace=True)\n",
        "\n",
        "\n",
        "# Create the plot\n",
        "plt.figure(figsize=(12, 6))  # Adjust figure size as needed\n",
        "plt.plot(combined_df.index, combined_df['EST 90'], label='EST 90', color='blue')\n",
        "plt.plot(combined_df.index, combined_df['WEST 90'], label='WEST 90', color='red')\n",
        "\n",
        "# Customize the plot\n",
        "plt.xlabel('Hour')\n",
        "plt.ylabel('AC Production (W)')\n",
        "plt.title('Hourly AC Production Comparison - Flaine (DEC 20th)')\n",
        "plt.grid(True)\n",
        "plt.legend()\n",
        "\n",
        "# Format x-axis to show only hours\n",
        "ax = plt.gca()  # Get current axes\n",
        "ax.xaxis.set_major_formatter(mdates.DateFormatter('%H:%M'))  # Set format to HH:MM\n",
        "\n",
        "# Rotate x-axis labels for better readability (optional)\n",
        "plt.xticks(rotation=45, ha='right')\n",
        "\n",
        "plt.tight_layout()\n",
        "plt.show()"
      ],
      "metadata": {
        "id": "e_CBI675EFRB"
      },
      "execution_count": null,
      "outputs": []
    },
    {
      "cell_type": "markdown",
      "source": [
        "ETE"
      ],
      "metadata": {
        "id": "TZmeYinqHTF4"
      }
    },
    {
      "cell_type": "code",
      "source": [
        "# Select data for the desired hours\n",
        "selected_hours_été = mc_bifi.results.ac.iloc[4152:4176] # changer heures\n",
        "\n",
        "# Create the curve graph\n",
        "plt.figure(figsize=(10, 6))  # Adjust figure size as needed\n",
        "plt.plot(selected_hours_été.index, selected_hours_été.values, color='b', label='AC Production')\n",
        "\n",
        "# Customize the plot\n",
        "plt.xlabel('Date')\n",
        "plt.ylabel('AC Production (W)')\n",
        "plt.title('AC Production')\n",
        "plt.grid(True)\n",
        "plt.legend()\n",
        "\n",
        "# Rotate x-axis labels for better readability (optional)\n",
        "plt.xticks(rotation=45, ha='right')\n",
        "\n",
        "plt.tight_layout()\n",
        "plt.show()"
      ],
      "metadata": {
        "id": "dvbvdagdHPSg"
      },
      "execution_count": null,
      "outputs": []
    },
    {
      "cell_type": "code",
      "source": [
        "#selected_hours_été.to_csv('selected_hours_été.csv')"
      ],
      "metadata": {
        "id": "_ug6NjW9HnBX"
      },
      "execution_count": null,
      "outputs": []
    },
    {
      "cell_type": "code",
      "source": [
        "df3 = pd.read_csv('selected_hours_été_23_juin_EST.csv') #été\n",
        "df4 = pd.read_csv('selected_hours_été_23_juin_WEST.csv')"
      ],
      "metadata": {
        "id": "E06BCIhHHpWI"
      },
      "execution_count": null,
      "outputs": []
    },
    {
      "cell_type": "code",
      "source": [
        "import matplotlib.dates as mdates\n",
        "# Concatenate the DataFrames\n",
        "combined_df = pd.concat([\n",
        "    df3.rename(columns={'0': 'EST 90'})[['EST 90']],\n",
        "    df4.rename(columns={'0': 'WEST 90'})[['WEST 90']],\n",
        "], axis=1)\n",
        "\n",
        "# Set 'Hour' as index if not already\n",
        "combined_df['Hour'] = pd.to_datetime(df3['utc_time'], format='%H:%M', errors='coerce').fillna(pd.to_datetime('2023-01-01')) + pd.to_timedelta(df3.index, unit='h')\n",
        "combined_df.set_index('Hour', inplace=True)\n",
        "\n",
        "\n",
        "# Create the plot\n",
        "plt.figure(figsize=(12, 6))  # Adjust figure size as needed\n",
        "plt.plot(combined_df.index, combined_df['EST 90'], label='EST 90', color='blue')\n",
        "plt.plot(combined_df.index, combined_df['WEST 90'], label='WEST 90', color='red')\n",
        "\n",
        "# Customize the plot\n",
        "plt.xlabel('Hour')\n",
        "plt.ylabel('AC Production (W)')\n",
        "plt.title('Hourly AC Production Comparison - Flaine (JUNE 23th)')\n",
        "plt.grid(True)\n",
        "plt.legend()\n",
        "\n",
        "# Format x-axis to show only hours\n",
        "ax = plt.gca()  # Get current axes\n",
        "ax.xaxis.set_major_formatter(mdates.DateFormatter('%H:%M'))  # Set format to HH:MM\n",
        "\n",
        "# Rotate x-axis labels for better readability (optional)\n",
        "plt.xticks(rotation=45, ha='right')\n",
        "\n",
        "plt.tight_layout()\n",
        "plt.show()"
      ],
      "metadata": {
        "id": "MPyxeN6VHDAX"
      },
      "execution_count": null,
      "outputs": []
    },
    {
      "cell_type": "markdown",
      "source": [
        "South"
      ],
      "metadata": {
        "id": "2vQa6BmsOhiA"
      }
    },
    {
      "cell_type": "code",
      "source": [
        "# Select data for the desired hours\n",
        "selected_hours_south = mc_bifi.results.ac.iloc[4152:4176] # changer heures\n",
        "\n",
        "# Create the curve graph\n",
        "plt.figure(figsize=(10, 6))  # Adjust figure size as needed\n",
        "plt.plot(selected_hours_south.index, selected_hours_été.values, color='b', label='AC Production')\n",
        "\n",
        "# Customize the plot\n",
        "plt.xlabel('Date')\n",
        "plt.ylabel('AC Production (W)')\n",
        "plt.title('AC Production')\n",
        "plt.grid(True)\n",
        "plt.legend()\n",
        "\n",
        "# Rotate x-axis labels for better readability (optional)\n",
        "plt.xticks(rotation=45, ha='right')\n",
        "\n",
        "plt.tight_layout()\n",
        "plt.show()"
      ],
      "metadata": {
        "id": "arqutoATOhTJ"
      },
      "execution_count": null,
      "outputs": []
    },
    {
      "cell_type": "code",
      "source": [
        "#selected_hours_south.to_csv('selected_hours_south.csv')"
      ],
      "metadata": {
        "id": "tAV6Amc9Oov5"
      },
      "execution_count": null,
      "outputs": []
    },
    {
      "cell_type": "code",
      "source": [
        "df7 = pd.read_csv('selected_hours_south.csv') #été"
      ],
      "metadata": {
        "id": "jgw9N0QzUANg"
      },
      "execution_count": null,
      "outputs": []
    },
    {
      "cell_type": "markdown",
      "source": [
        "1 string West 1 string EAST"
      ],
      "metadata": {
        "id": "Bhau4VDrGVIJ"
      }
    },
    {
      "cell_type": "code",
      "source": [
        "# Select data for the desired hours\n",
        "selected_hours_1string = mc_bifi.results.ac.iloc[4152:4176] # changer heures\n",
        "\n",
        "# Create the curve graph\n",
        "plt.figure(figsize=(10, 6))  # Adjust figure size as needed\n",
        "plt.plot(selected_hours_1string.index, selected_hours_été.values, color='b', label='AC Production')\n",
        "\n",
        "# Customize the plot\n",
        "plt.xlabel('Date')\n",
        "plt.ylabel('AC Production (W)')\n",
        "plt.title('AC Production')\n",
        "plt.grid(True)\n",
        "plt.legend()\n",
        "\n",
        "# Rotate x-axis labels for better readability (optional)\n",
        "plt.xticks(rotation=45, ha='right')\n",
        "\n",
        "plt.tight_layout()\n",
        "plt.show()"
      ],
      "metadata": {
        "id": "5tmyjq4LGZnR"
      },
      "execution_count": null,
      "outputs": []
    },
    {
      "cell_type": "code",
      "source": [
        "#selected_hours_1string.to_csv('selected_hours_1string_EAST.csv')"
      ],
      "metadata": {
        "id": "kEO3B6itGd6i"
      },
      "execution_count": null,
      "outputs": []
    },
    {
      "cell_type": "code",
      "source": [
        "df5 = pd.read_csv('selected_hours_1string_EAST.csv') #été\n",
        "df6 = pd.read_csv('selected_hours_1string_WEST.csv')"
      ],
      "metadata": {
        "id": "Q7dON6JSJMe5"
      },
      "execution_count": null,
      "outputs": []
    },
    {
      "cell_type": "code",
      "source": [
        "import pandas as pd\n",
        "import matplotlib.pyplot as plt\n",
        "import matplotlib.dates as mdates\n",
        "\n",
        "# Assuming df3, df4, df5, df6, and df7 have a column named '0' containing the values\n",
        "# and a column named 'utc_time' containing the timestamps\n",
        "\n",
        "# Concatenate the DataFrames for the sum curve\n",
        "combined_df_sum = pd.concat([\n",
        "    df5.rename(columns={'0': 'EAST'})[['EAST']],\n",
        "    df6.rename(columns={'0': 'WEST'})[['WEST']],\n",
        "], axis=1)\n",
        "combined_df_sum['Sum'] = combined_df_sum['EAST'] + combined_df_sum['WEST']\n",
        "\n",
        "# Set 'Hour' as index for the sum curve\n",
        "combined_df_sum['Hour'] = pd.to_datetime(df5['utc_time'], format='%H:%M', errors='coerce').fillna(pd.to_datetime('2023-01-01')) + pd.to_timedelta(df5.index, unit='h')\n",
        "combined_df_sum.set_index('Hour', inplace=True)\n",
        "\n",
        "# Create the plot\n",
        "plt.figure(figsize=(12, 6))  # Adjust figure size as needed\n",
        "\n",
        "# Plot the sum curve\n",
        "plt.plot(combined_df_sum.index, combined_df_sum['Sum'], label='Sum 1 string (EAST + WEST 90°)', color='green')\n",
        "\n",
        "# Add curves for df3, df4, and df7\n",
        "# Assuming df3, df4, and df7 have the same 'utc_time' format as df5 and df6\n",
        "for df, label, color in zip([df3, df4, df7], ['EAST 90°', 'WEST 90°', 'SOUTH 60°'], ['blue', 'red', 'purple']):  # Changed label here\n",
        "    df['Hour'] = pd.to_datetime(df['utc_time'], format='%H:%M', errors='coerce').fillna(pd.to_datetime('2023-01-01')) + pd.to_timedelta(df.index, unit='h')\n",
        "    df.set_index('Hour', inplace=True)\n",
        "    plt.plot(df.index, df['0'], label=label, color=color)\n",
        "\n",
        "# Customize the plot\n",
        "plt.xlabel('Hour')\n",
        "plt.ylabel('AC Production (W)')\n",
        "plt.title('Hourly AC Production Comparison - Flaine (1600 m) - June the 23rd')\n",
        "plt.grid(True)\n",
        "plt.legend()\n",
        "\n",
        "# Format x-axis to show only hours\n",
        "ax = plt.gca()  # Get current axes\n",
        "ax.xaxis.set_major_formatter(mdates.DateFormatter('%H:%M'))  # Set format to HH:MM\n",
        "\n",
        "# Rotate x-axis labels for better readability (optional)\n",
        "plt.xticks(rotation=45, ha='right')\n",
        "\n",
        "plt.tight_layout()\n",
        "plt.show()\n"
      ],
      "metadata": {
        "id": "6dJQ4I0dJlhy"
      },
      "execution_count": null,
      "outputs": []
    }
  ],
  "metadata": {
    "kernelspec": {
      "display_name": "Python 3",
      "language": "python",
      "name": "python3"
    },
    "language_info": {
      "codemirror_mode": {
        "name": "ipython",
        "version": 3
      },
      "file_extension": ".py",
      "mimetype": "text/x-python",
      "name": "python",
      "nbconvert_exporter": "python",
      "pygments_lexer": "ipython3",
      "version": "3.12.1"
    },
    "colab": {
      "provenance": []
    }
  },
  "nbformat": 4,
  "nbformat_minor": 0
}